{
 "cells": [
  {
   "attachments": {},
   "cell_type": "markdown",
   "metadata": {},
   "source": [
    "# Introduction to Singleton Integers\n",
    "In Python, integers between -5 and 256 are cached as singleton objects. This means that if you create two integer objects with the same value within this range, they will actually reference the same object in memory. This can have implications for performance and memory usage.\n",
    "\n",
    "Let's see some examples:"
   ]
  },
  {
   "cell_type": "code",
   "execution_count": null,
   "metadata": {},
   "outputs": [],
   "source": [
    "a = 10\n",
    "b = 10\n",
    "print(a is b)  # True\n",
    "\n",
    "x = 300\n",
    "y = 300\n",
    "print(x is y)  # False"
   ]
  },
  {
   "attachments": {},
   "cell_type": "markdown",
   "metadata": {},
   "source": [
    "In the first example, both `a` and `b` reference the same integer object with a value of 10. This is because 10 is within the range of cached integers (-5 to 256).\n",
    "\n",
    "In the second example, `x` and `y` are both assigned the value 300, which is outside the range of cached integers. Therefore, two separate integer objects with a value of 300 are created, and x and y reference different objects in memory.\n",
    "\n",
    "## Using the `id()` function to check object identity\n",
    "We can also use the `id()` function to check whether two variables reference the same object in memory. The `id()` function returns a unique identifier for an object, which can be used to check object identity."
   ]
  },
  {
   "cell_type": "code",
   "execution_count": 1,
   "metadata": {},
   "outputs": [
    {
     "name": "stdout",
     "output_type": "stream",
     "text": [
      "4318429000\n",
      "4318429000\n",
      "4360888720\n",
      "4360885456\n"
     ]
    }
   ],
   "source": [
    "a = 10\n",
    "b = 10\n",
    "print(id(a))\n",
    "print(id(b))\n",
    "\n",
    "x = 300\n",
    "y = 300\n",
    "print(id(x))\n",
    "print(id(y))"
   ]
  },
  {
   "attachments": {},
   "cell_type": "markdown",
   "metadata": {},
   "source": [
    "In this example, we can see that the id() of a and b are the same, but the id() of x and y are different. This confirms that a and b reference the same integer object, while x and y reference different integer objects.\n",
    "\n",
    "## Demonstration of Singleton Integer Caching\n",
    "Now let's demonstrate the singleton integer caching in action:"
   ]
  },
  {
   "cell_type": "code",
   "execution_count": 3,
   "metadata": {},
   "outputs": [
    {
     "name": "stdout",
     "output_type": "stream",
     "text": [
      "False\n",
      "False\n"
     ]
    }
   ],
   "source": [
    "# assigning integers outside -5 to 256 range\n",
    "e = 257\n",
    "f = 257\n",
    "g = -6\n",
    "h = -6\n",
    "print(e is f)  # False\n",
    "print(g is h)  # False"
   ]
  },
  {
   "attachments": {},
   "cell_type": "markdown",
   "metadata": {},
   "source": [
    "All these examples are outside the range of cached integers, so separate objects are created for each variable.\n",
    "\n",
    "## Some conclusions about this\n",
    "\n",
    "Although integers between -5 and 256 are cached as singleton objects in CPython (the default Python implementation), this behavior is not guaranteed by the Python language specification. Other Python implementations may not implement this caching behavior, so relying on it may result in non-portable code.\n",
    "\n",
    "Additionally, the caching behavior is only applicable to integers created at compile time, which means that it may not apply to integers created dynamically at runtime.\n",
    "\n",
    "Therefore, it's important to be aware of this behavior and not rely on it in critical parts of your code. If you need to compare two integer objects for equality, you should use the == operator instead of the is operator, which checks object identity."
   ]
  },
  {
   "cell_type": "code",
   "execution_count": null,
   "metadata": {},
   "outputs": [],
   "source": []
  }
 ],
 "metadata": {
  "kernelspec": {
   "display_name": ".venv",
   "language": "python",
   "name": "python3"
  },
  "language_info": {
   "codemirror_mode": {
    "name": "ipython",
    "version": 3
   },
   "file_extension": ".py",
   "mimetype": "text/x-python",
   "name": "python",
   "nbconvert_exporter": "python",
   "pygments_lexer": "ipython3",
   "version": "3.11.2"
  },
  "orig_nbformat": 4
 },
 "nbformat": 4,
 "nbformat_minor": 2
}
