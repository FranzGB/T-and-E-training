{
 "cells": [
  {
   "cell_type": "markdown",
   "metadata": {},
   "source": [
    "# Python Basic Iterator: `range()`\n",
    "## Summary\n",
    "The `range()` function in Python is a built-in iterator that generates a sequence of numbers within a specified range. It is commonly used for creating loops to iterate over a set of values.\n",
    "## Examples\n",
    "### Basic Usage\n",
    "Let's start with some basic examples of how to use `range()`:\n"
   ]
  },
  {
   "cell_type": "code",
   "execution_count": 1,
   "metadata": {},
   "outputs": [
    {
     "name": "stdout",
     "output_type": "stream",
     "text": [
      "0\n",
      "1\n",
      "2\n",
      "3\n",
      "4\n"
     ]
    }
   ],
   "source": [
    "# Example 1: Basic range usage\n",
    "for i in range(5):\n",
    "    print(i)"
   ]
  },
  {
   "cell_type": "markdown",
   "metadata": {},
   "source": [
    "In this example, `range(5)` generates a sequence of numbers from 0 to 4 (inclusive). The `for` loop then iterates over these numbers.\n",
    "\n",
    "### Specifying Start and End\n"
   ]
  },
  {
   "cell_type": "code",
   "execution_count": 2,
   "metadata": {},
   "outputs": [
    {
     "name": "stdout",
     "output_type": "stream",
     "text": [
      "2\n",
      "3\n",
      "4\n"
     ]
    }
   ],
   "source": [
    "# Example 2: Specifying start and end\n",
    "for i in range(2, 5):\n",
    "    print(i)"
   ]
  },
  {
   "cell_type": "markdown",
   "metadata": {},
   "source": [
    " In this case, `range(2, 5)` generates numbers from 2 to 4 (inclusive).\n",
    "\n",
    "### Using a Step Value"
   ]
  },
  {
   "cell_type": "code",
   "execution_count": 3,
   "metadata": {},
   "outputs": [
    {
     "name": "stdout",
     "output_type": "stream",
     "text": [
      "1\n",
      "3\n",
      "5\n",
      "7\n",
      "9\n"
     ]
    }
   ],
   "source": [
    "# Example 3: Using a step value\n",
    "for i in range(1, 10, 2):\n",
    "    print(i)"
   ]
  },
  {
   "cell_type": "markdown",
   "metadata": {},
   "source": [
    "Here, `range(1, 10, 2)` generates numbers starting from 1, up to (but not including) 10, with a step of 2.\n",
    "\n",
    "## Interesting Cases\n",
    "\n",
    "### Reversing with Negative Step"
   ]
  },
  {
   "cell_type": "code",
   "execution_count": 4,
   "metadata": {},
   "outputs": [
    {
     "name": "stdout",
     "output_type": "stream",
     "text": [
      "5\n",
      "4\n",
      "3\n",
      "2\n",
      "1\n"
     ]
    }
   ],
   "source": [
    "# Example 4: Reversing with a negative step\n",
    "for i in range(5, 0, -1):\n",
    "    print(i)"
   ]
  },
  {
   "cell_type": "markdown",
   "metadata": {},
   "source": [
    "In this example, we use a negative step value to generate numbers in reverse order.\n",
    "\n",
    "### Combining with `len()` for Iterable Length"
   ]
  },
  {
   "cell_type": "code",
   "execution_count": 5,
   "metadata": {},
   "outputs": [
    {
     "name": "stdout",
     "output_type": "stream",
     "text": [
      "0 apple\n",
      "1 banana\n",
      "2 cherry\n"
     ]
    }
   ],
   "source": [
    "# Example 5: Combining with len() for iterable length\n",
    "items = [\"apple\", \"banana\", \"cherry\"]\n",
    "for i in range(len(items)):\n",
    "    print(i, items[i])"
   ]
  },
  {
   "cell_type": "markdown",
   "metadata": {},
   "source": [
    "Here, we use `len(items)` to find the length of the iterable `items` and then use `range()` to generate indices for iteration.\n",
    "\n",
    " ### Generating a Sequence of Numbers\n",
    "\n",
    "\n",
    " In this example, we convert the `range()` object into a list to create a sequence of numbers from 1 to 5."
   ]
  },
  {
   "cell_type": "code",
   "execution_count": 6,
   "metadata": {},
   "outputs": [
    {
     "name": "stdout",
     "output_type": "stream",
     "text": [
      "[1, 2, 3, 4, 5]\n"
     ]
    }
   ],
   "source": [
    "# Example 6: Generating a sequence of numbers\n",
    "sequence = list(range(1, 6))\n",
    "print(sequence)\n"
   ]
  },
  {
   "cell_type": "markdown",
   "metadata": {},
   "source": [
    "Here are some key points about the laziness and performance of range():\n",
    "\n",
    "- Lazy Evaluation: range() returns an iterator, not a list or sequence. It generates values one at a time when you iterate over it. This approach minimizes memory usage, making it suitable for situations where memory is limited or when dealing with very large ranges.\n",
    "\n",
    "- Constant Space: Regardless of the range's size, range() itself consumes constant space in memory. The memory usage is independent of the size of the range because it only stores the start, stop, and step values, not the entire sequence of numbers.\n",
    "\n",
    "- Performance Benefits: Laziness and constant space usage make range() highly efficient for loop iterations and operations that involve a sequence of numbers. It's particularly useful when you don't need to store the entire sequence in memory.\n",
    "\n",
    "- Suitable for Large Ranges: range() is ideal for generating and working with large ranges. You can use it to create sequences of millions or even billions of numbers without significant memory overhead.\n",
    "\n",
    "- Slice Performance: When slicing a range(), the slicing operation itself is also lazy and efficient. It creates a new range() object that refers to the original range(), without copying the entire range.\n",
    "\n",
    "- Use Cases: range() is commonly used in for loops to iterate over a sequence of numbers. It's often used when you need to repeat an operation a specific number of times or when you want to generate a sequence of indices for accessing elements in a data structure."
   ]
  },
  {
   "cell_type": "markdown",
   "metadata": {},
   "source": [
    "Here are some other quirks and considerations to be aware of when working with `range()`:\n",
    "\n",
    "1. Immutable: range() objects are immutable, which means you cannot modify them once created. If you need to change the range, you have to create a new range() object.\n",
    "\n",
    "1. Iteration Only: range() is primarily designed for use in for loops and iteration. While you can convert it to other sequences (e.g., lists) using list(range()), it's less efficient for certain operations compared to specialized sequences like NumPy arrays.\n",
    "\n",
    "1. Limited to Integers: range() generates integer values only. If you need sequences of floating-point numbers, you'll need to use a different approach or library.\n",
    "\n",
    "1. Memory Efficiency: While range() is memory-efficient, keep in mind that if you convert it to a list using list(range()), it will consume memory proportional to the size of the range.\n",
    "\n"
   ]
  }
 ],
 "metadata": {
  "kernelspec": {
   "display_name": ".venv",
   "language": "python",
   "name": "python3"
  },
  "language_info": {
   "codemirror_mode": {
    "name": "ipython",
    "version": 3
   },
   "file_extension": ".py",
   "mimetype": "text/x-python",
   "name": "python",
   "nbconvert_exporter": "python",
   "pygments_lexer": "ipython3",
   "version": "3.11.2"
  },
  "orig_nbformat": 4
 },
 "nbformat": 4,
 "nbformat_minor": 2
}
