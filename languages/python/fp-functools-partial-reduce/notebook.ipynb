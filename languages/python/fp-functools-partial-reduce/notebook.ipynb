{
 "cells": [
  {
   "cell_type": "markdown",
   "metadata": {},
   "source": [
    "# Functional Programming in Python: Functools Module, Partials, and Reduce"
   ]
  },
  {
   "cell_type": "markdown",
   "metadata": {},
   "source": [
    "# The Functools Module"
   ]
  },
  {
   "cell_type": "markdown",
   "metadata": {},
   "source": [
    "The `functools` module is a built-in module in Python that provides several higher-order functions that are useful in functional programming. The module contains functions that can be used to manipulate functions and other callable objects, such as decorators, partial functions, and functions that operate on iterables.\n",
    "\n",
    "The purpose of the `functools` module is to provide a set of tools that make it easier to write functional-style code in Python. Functional programming is a programming paradigm that emphasizes the use of functions as the primary means of computation. In functional programming, functions are treated as first-class objects that can be passed around and manipulated like any other value. This makes it possible to write code that is more modular, reusable, and easier to reason about.\n",
    "\n",
    "The `functools` module provides several functions that are commonly used in functional programming, including `partial`, `reduce`, `map`, `filter`, and `zip`. These functions can be used to create new functions from existing ones, apply functions to sequences of values, and combine sequences of values in various ways.\n",
    "\n",
    "Overall, the `functools` module is an important tool for Python developers who want to write code in a functional style. By providing a set of higher-order functions that can be used to manipulate functions and other callable objects, the module makes it easier to write code that is modular, reusable, and easier to reason about."
   ]
  },
  {
   "cell_type": "code",
   "execution_count": 2,
   "metadata": {},
   "outputs": [
    {
     "data": {
      "text/plain": [
       "120"
      ]
     },
     "execution_count": 2,
     "metadata": {},
     "output_type": "execute_result"
    }
   ],
   "source": [
    "# Import the functools module\n",
    "import functools\n",
    "\n",
    "# Define a function that takes a list of numbers and returns the product of all numbers\n",
    "def product_list(numbers):\n",
    "    return functools.reduce(lambda x, y: x*y, numbers)\n",
    "\n",
    "product_list([1, 2, 3, 4, 5])\n"
   ]
  },
  {
   "cell_type": "markdown",
   "metadata": {},
   "source": [
    "# The Partial Function"
   ]
  },
  {
   "cell_type": "markdown",
   "metadata": {},
   "source": [
    "\n",
    "The `partial` function is a higher-order function provided by the `functools` module in Python. It allows you to create a new function from an existing one by fixing some of its arguments. The resulting function can then be called with the remaining arguments, which will be combined with the fixed ones."
   ]
  },
  {
   "cell_type": "code",
   "execution_count": null,
   "metadata": {},
   "outputs": [],
   "source": [
    "from functools import partial\n",
    "\n",
    "def multiply(x, y):\n",
    "    return x * y\n",
    "\n",
    "double = partial(multiply, y=2)\n",
    "\n",
    "print(double(3))  # Output: 6\n"
   ]
  },
  {
   "cell_type": "markdown",
   "metadata": {},
   "source": [
    "\n",
    "\n",
    "In this example, we define a function called `multiply` that takes two arguments and returns their product. We then use the `partial` function to create a new function called `double` that multiplies its argument by 2. We do this by fixing the second argument of `multiply` to be 2, and passing the resulting function to `partial`.\n",
    "\n",
    "When we call `double` with an argument of 3, it multiplies 3 by 2 and returns the result, which is 6.\n",
    "\n",
    "The `partial` function can be useful in situations where you need to create a new function that is similar to an existing one, but with some arguments fixed. This can help to simplify your code and make it more readable."
   ]
  },
  {
   "cell_type": "markdown",
   "metadata": {},
   "source": [
    "# The Reduce Function"
   ]
  },
  {
   "cell_type": "markdown",
   "metadata": {},
   "source": [
    "\n",
    "The `reduce` function is another higher-order function provided by the `functools` module in Python. It allows you to apply a function to a sequence of values in a cumulative way, producing a single result.\n",
    "\n",
    "Here's an example of how to use the `reduce` function:\n",
    "\n"
   ]
  },
  {
   "cell_type": "code",
   "execution_count": 3,
   "metadata": {},
   "outputs": [
    {
     "name": "stdout",
     "output_type": "stream",
     "text": [
      "5050\n"
     ]
    }
   ],
   "source": [
    "from functools import reduce\n",
    "\n",
    "def add(x, y):\n",
    "    return x + y\n",
    "\n",
    "numbers_up_to_100 = range(1, 101)\n",
    "\n",
    "result = reduce(add, numbers_up_to_100) #As you can see it also works on iterables\n",
    "\n",
    "print(result)  # Output: 15\n"
   ]
  },
  {
   "cell_type": "markdown",
   "metadata": {},
   "source": [
    "\n",
    "\n",
    "In this example, we define a function called `add` that takes two arguments and returns their sum. We then define a list of numbers and use the `reduce` function to apply the `add` function to them in a cumulative way. The `reduce` function starts by applying `add` to the first two numbers in the list, then applies it to the result and the next number, and so on, until it has processed all the numbers in the list. The final result is the sum of all the numbers in the list.\n",
    "\n",
    "The `reduce` function can be useful in situations where you need to combine a sequence of values into a single result using a binary operation. It can help to simplify your code and make it more readable. However, it's important to note that the `reduce` function is not always the best choice for every situation, and there may be cases where a loop or list comprehension is more appropriate."
   ]
  },
  {
   "cell_type": "markdown",
   "metadata": {},
   "source": [
    "# Interesting Cases\n",
    "Provide examples of interesting cases where the partial and reduce functions can be used to simplify code and improve performance."
   ]
  },
  {
   "cell_type": "code",
   "execution_count": 15,
   "metadata": {},
   "outputs": [
    {
     "name": "stdout",
     "output_type": "stream",
     "text": [
      "24\n",
      "hello world from reduce\n",
      "{'hello': 'world', 'foo': 'bar', 'baz': 'qux'}\n",
      "14\n",
      "120\n"
     ]
    }
   ],
   "source": [
    "\n",
    "# Define a function that takes a list of numbers and returns the product of all numbers, except for the last number\n",
    "def product_list_except_last(numbers):\n",
    "    return functools.reduce(lambda x, y: x*y, numbers[:-1])\n",
    "\n",
    "print(product_list_except_last([1, 2, 3, 4, 5]))  # Output: 24\n",
    "\n",
    "# Define a function that takes a list of strings and returns a string that is all the strings concatenated together\n",
    "def join_strings(strings):\n",
    "    return functools.reduce(lambda x, y: x+y, strings)\n",
    "\n",
    "print(join_strings([\"hello\", \" \", \"world\", \" \", \"from\", \" reduce\"]))  # Output: hello world from reduce\n",
    "\n",
    "# Define a function that takes a list of dictionaries and returns a dictionary that is all the dictionaries merged together\n",
    "def merge_dictionaries(dictionaries):\n",
    "    return functools.reduce(lambda x, y: {**x, **y}, dictionaries)\n",
    "\n",
    "dict1 = {\"hello\": \"world\"}\n",
    "dict2 = {\"foo\": \"bar\"}\n",
    "dict3 = {\"baz\": \"qux\"}\n",
    "\n",
    "print(merge_dictionaries([dict1, dict2, dict3]))  # Output: {'hello': 'world', 'foo': 'bar', 'baz': 'qux'}s\n",
    "\n",
    "# Define a custom iterable class that implements the __iter__ and __next__ methods and can be used with reduce\n",
    "class MyIterableThatSkipFirstAndLast:\n",
    "    def __init__(self, iterable):\n",
    "        self.iterable = iterable\n",
    "        self.index = 0\n",
    "\n",
    "    def __iter__(self):\n",
    "        return self\n",
    "\n",
    "    def __next__(self):\n",
    "        if self.index > len(self.iterable) - 2:\n",
    "            raise StopIteration\n",
    "        else:\n",
    "            self.index += 1\n",
    "            return self.iterable[self.index]\n",
    "\n",
    "myiter = MyIterableThatSkipFirstAndLast([1, 2, 3, 4, 5])\n",
    "\n",
    "print(reduce(add, myiter)) # Output: 9\n",
    "\n",
    "# Define a reduce from right side function\n",
    "def reduce_right(function, iterable):\n",
    "    return functools.reduce(function, reversed(iterable))\n",
    "\n",
    "print(reduce_right(lambda x, y: x*y, [1, 2, 3, 4, 5]))  # Output: 120\n"
   ]
  },
  {
   "cell_type": "code",
   "execution_count": 89,
   "metadata": {},
   "outputs": [
    {
     "name": "stdout",
     "output_type": "stream",
     "text": [
      "120\n",
      "[15, 1, 5, 120]\n",
      "15\n",
      "128\n"
     ]
    }
   ],
   "source": [
    "import functools\n",
    "\n",
    "# Define a function that multiplies all elements of a list\n",
    "def product(iterable):\n",
    "    return reduce(lambda x, y: x*y, iterable)\n",
    "\n",
    "print(product([1, 2, 3, 4, 5])) # Output: 120\n",
    "\n",
    "\n",
    "# Define a function that takes a list of functions and a list of arguments, and returns a new list with the result of calling each function with the given arguments\n",
    "def apply_functions(functions, args):\n",
    "    return list(map(lambda f: f(args), functions))\n",
    "\n",
    "print(apply_functions([sum, min, max, product], [1,2,3,4,5]))  # Output: [15, 1, 5, 120]\n",
    "\n",
    "# Define partial reduce that just takes the function\n",
    "def partial_reduce(function):\n",
    "    return lambda iterable: functools.reduce(function, iterable)\n",
    "\n",
    "print(partial_reduce(lambda x, y: x+y)([1,2,3,4,5])) #Add 1 to each element and then sum them\n",
    "\n",
    "# Combine this functions in a single example\n",
    "def sum_functions_results(functions, args):\n",
    "    return functools.reduce(lambda x, y: x+y, apply_functions(functions, args))\n",
    "\n",
    "print(sum_functions_results([sum, min, max, product, partial_reduce(lambda x, y: x-y) ], [1,2,3,4,5]))\n"
   ]
  }
 ],
 "metadata": {
  "kernelspec": {
   "display_name": ".venv",
   "language": "python",
   "name": "python3"
  },
  "language_info": {
   "codemirror_mode": {
    "name": "ipython",
    "version": 3
   },
   "file_extension": ".py",
   "mimetype": "text/x-python",
   "name": "python",
   "nbconvert_exporter": "python",
   "pygments_lexer": "ipython3",
   "version": "3.11.2"
  },
  "orig_nbformat": 4
 },
 "nbformat": 4,
 "nbformat_minor": 2
}
