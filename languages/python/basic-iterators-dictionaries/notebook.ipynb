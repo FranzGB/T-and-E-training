{
 "cells": [
  {
   "cell_type": "markdown",
   "metadata": {},
   "source": [
    "# Python Basic Dictionary Iterators: keys, values, items\n",
    "## Summary\n",
    "In Python, dictionaries are a versatile data structure that allows you to store key-value pairs. You can use basic iterators such as `dict.keys()`, `dict.values()`, and `dict.items()` to access and iterate through different aspects of a dictionary.\n",
    "\n",
    "## Examples\n",
    "### Basic Usage\n",
    "Let's start with some basic examples of how to use these iterators:\n",
    "Example 1: Using dict.keys() to iterate over keys"
   ]
  },
  {
   "cell_type": "code",
   "execution_count": 1,
   "metadata": {},
   "outputs": [
    {
     "name": "stdout",
     "output_type": "stream",
     "text": [
      "Alice\n",
      "Bob\n",
      "Charlie\n"
     ]
    }
   ],
   "source": [
    "student_grades = {'Alice': 95, 'Bob': 88, 'Charlie': 92}\n",
    "for student in student_grades.keys():\n",
    "    print(student)"
   ]
  },
  {
   "cell_type": "markdown",
   "metadata": {},
   "source": [
    "In this example, `dict.keys()` allows us to iterate over the keys of the dictionary `student_grades`.\n",
    "\n",
    "### Using `dict.values()` to Iterate Over Values\n",
    "\n",
    "You can use `dict.values()` to iterate over the values in a dictionary:\n",
    "\n",
    "# Example 2: Using dict.values() to iterate over values"
   ]
  },
  {
   "cell_type": "code",
   "execution_count": 2,
   "metadata": {},
   "outputs": [
    {
     "name": "stdout",
     "output_type": "stream",
     "text": [
      "95\n",
      "88\n",
      "92\n"
     ]
    }
   ],
   "source": [
    "for grade in student_grades.values():\n",
    "    print(grade)"
   ]
  },
  {
   "cell_type": "markdown",
   "metadata": {},
   "source": [
    "### Using `dict.items()` to Iterate Over Key-Value Pairs\n",
    "\n",
    "`dict.items()` is used to iterate over both keys and values simultaneously in a dictionary:\n",
    "\n",
    "# Example 3: Using dict.items() to iterate over key-value pairs"
   ]
  },
  {
   "cell_type": "code",
   "execution_count": 3,
   "metadata": {},
   "outputs": [
    {
     "name": "stdout",
     "output_type": "stream",
     "text": [
      "Alice: 95\n",
      "Bob: 88\n",
      "Charlie: 92\n"
     ]
    }
   ],
   "source": [
    "for student, grade in student_grades.items():\n",
    "    print(f\"{student}: {grade}\")"
   ]
  },
  {
   "cell_type": "markdown",
   "metadata": {},
   "source": [
    "\n",
    "## Interesting Cases\n",
    "### Filtering and Transformation\n",
    "You can use these iterators to filter and transform dictionary data:\n",
    "\n",
    "\n",
    "# Example 4: Filter students with grades above 90"
   ]
  },
  {
   "cell_type": "code",
   "execution_count": 5,
   "metadata": {},
   "outputs": [
    {
     "name": "stdout",
     "output_type": "stream",
     "text": [
      "{'Alice': 95, 'Charlie': 92}\n"
     ]
    }
   ],
   "source": [
    "top_students = {student: grade for student, grade in student_grades.items() if grade > 90}\n",
    "print(top_students)"
   ]
  },
  {
   "cell_type": "markdown",
   "metadata": {},
   "source": [
    "\n",
    "### Combining with Other Operations\n",
    "Basic dictionary iterators can be combined with other operations to perform tasks like finding the average grade:\n",
    "\n",
    "# Example 5: Calculate the average grade"
   ]
  },
  {
   "cell_type": "code",
   "execution_count": 6,
   "metadata": {},
   "outputs": [
    {
     "name": "stdout",
     "output_type": "stream",
     "text": [
      "Average grade: 91.67\n"
     ]
    }
   ],
   "source": [
    "total_grade = sum(student_grades.values())\n",
    "average_grade = total_grade / len(student_grades)\n",
    "print(f\"Average grade: {average_grade:.2f}\")"
   ]
  },
  {
   "cell_type": "markdown",
   "metadata": {},
   "source": [
    "### Iterating Over Large Dictionaries\n",
    "These iterators can efficiently handle large dictionaries without the need to load all data into memory:\n",
    "\n",
    "# Example 6: Iterating over a large dictionary"
   ]
  },
  {
   "cell_type": "code",
   "execution_count": 7,
   "metadata": {},
   "outputs": [],
   "source": [
    "large_dict = {str(i): i**2 for i in range(10**6)}\n",
    "for key in large_dict.keys():\n",
    "    pass  # Perform some operation"
   ]
  },
  {
   "cell_type": "markdown",
   "metadata": {},
   "source": [
    "### View Objects\n",
    "These iterators return view objects, which reflect changes made to the dictionary:\n",
    "\n",
    "# Example 7: Modifying a dictionary while iterating"
   ]
  },
  {
   "cell_type": "code",
   "execution_count": 11,
   "metadata": {},
   "outputs": [
    {
     "name": "stdout",
     "output_type": "stream",
     "text": [
      "{'Alice': 95, 'Charlie': 92}\n"
     ]
    }
   ],
   "source": [
    "for key in student_grades.keys():\n",
    "    if key == 'Bob':\n",
    "        del student_grades[key]  # Delete 'Bob' from the dictionary\n",
    "\n",
    "print(student_grades)  # Updated dictionary after deletion"
   ]
  },
  {
   "cell_type": "markdown",
   "metadata": {},
   "source": [
    "This last example is a good one that rises an error. Let's see what is happening.\n",
    "\n",
    "#### Understanding \"changed size during iteration\" Error\n",
    "In Python, the \"changed size during iteration\" error occurs when you try to modify the size or structure of a collection (e.g., a dictionary) while you are actively iterating over it using a for loop or iterator. This error arises because the iterator is unaware of the changes you are making to the collection, leading to unexpected behavior.\n",
    "\n",
    "##### Why Does It Happen?\n",
    "Let's break down why this error occurs:\n",
    "\n",
    "1. Iteration Start: You initiate a for loop or iterator to traverse through a collection, such as a dictionary.\n",
    "\n",
    "1. Modification Inside the Loop: While iterating, you make changes to the collection, such as adding, deleting, or modifying elements.\n",
    "\n",
    "1. Iterator Unaware of Changes: The iterator is created with the initial size and structure of the collection. It doesn't know about any modifications made during iteration.\n",
    "\n",
    "1. Size Mismatch: When you modify the collection, the iterator still expects to iterate over the original number of elements. However, the collection's size has changed.\n",
    "\n",
    "1. Runtime Error: The mismatch between the expected and actual size of the collection causes a runtime error, specifically the \"changed size during iteration\" error.\n",
    "\n",
    "##### How to Avoid It\n",
    "To prevent the \"changed size during iteration\" error, follow this strategy:\n",
    "\n",
    "1. Create a List for Modifications: Instead of modifying the collection directly within the loop, create a separate list to store the elements you want to add, delete, or modify.\n",
    "\n",
    "1. Iterate First, Modify Later: Complete the iteration loop without making any changes to the collection. During this phase, identify the elements you want to modify and store them in the list.\n",
    "\n",
    "1. Modify After Iteration: After the iteration is complete, apply the modifications to the collection using the list you created. This ensures that the collection's structure remains consistent during the iteration process.\n",
    "\n",
    "By following this strategy, you can avoid the \"changed size during iteration\" error."
   ]
  },
  {
   "cell_type": "markdown",
   "metadata": {},
   "source": [
    "### Dictionary Comprehensions\n",
    "Python supports dictionary comprehensions, which allow you to create dictionaries concisely. Here's an example:\n",
    "\n",
    "# Example 8: Dictionary comprehension\n",
    "\n",
    "However, be careful with comprehensions when dealing with large data sets, as they can consume a significant amount of memory."
   ]
  },
  {
   "cell_type": "code",
   "execution_count": 12,
   "metadata": {},
   "outputs": [
    {
     "name": "stdout",
     "output_type": "stream",
     "text": [
      "{0: 0, 1: 1, 2: 4, 3: 9, 4: 16}\n"
     ]
    }
   ],
   "source": [
    "squares = {x: x**2 for x in range(5)}\n",
    "print(squares)"
   ]
  }
 ],
 "metadata": {
  "kernelspec": {
   "display_name": ".venv",
   "language": "python",
   "name": "python3"
  },
  "language_info": {
   "codemirror_mode": {
    "name": "ipython",
    "version": 3
   },
   "file_extension": ".py",
   "mimetype": "text/x-python",
   "name": "python",
   "nbconvert_exporter": "python",
   "pygments_lexer": "ipython3",
   "version": "3.11.2"
  },
  "orig_nbformat": 4
 },
 "nbformat": 4,
 "nbformat_minor": 2
}
