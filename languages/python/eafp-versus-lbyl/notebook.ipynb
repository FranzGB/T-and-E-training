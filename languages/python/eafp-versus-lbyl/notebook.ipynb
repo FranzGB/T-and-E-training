{
 "cells": [
  {
   "attachments": {},
   "cell_type": "markdown",
   "metadata": {},
   "source": [
    "# Exceptions: EAFP versus LBYL\n",
    "\n",
    "Python provides two main approaches to handling exceptions: EAFP and LBYL.\n",
    "\n",
    "EAFP stands for \"Easier to Ask for Forgiveness than Permission\". This approach assumes that it's easier to try a piece of code and catch an exception if it fails, than to check beforehand if the operation is possible. In other words, it's better to just go ahead and do something, and handle any errors that arise, rather than check for possible errors beforehand.\n",
    "\n",
    "For example, instead of checking if a file exists before opening it, you would simply try to open the file and handle the FileNotFoundError exception if it occurs:\n",
    "\n",
    "```python\n",
    "try:\n",
    "    f = open(\"myfile.txt\", \"r\")\n",
    "    content = f.read()\n",
    "    f.close()\n",
    "except FileNotFoundError:\n",
    "    print(\"Oops! The file doesn't exist.\")\n",
    "```\n",
    "LBYL stands for \"Look Before You Leap\". This approach involves checking beforehand if an operation is possible, and only proceeding if it is. In other words, it's better to look before you do something, rather than trying it and handling any errors that occur.\n",
    "\n",
    "For example, instead of trying to access an element of a list without checking if the list is empty, you would check first and only proceed if the list is not empty:\n",
    "\n",
    "```python\n",
    "mylist = [1, 2, 3]\n",
    "if len(mylist) > 0:\n",
    "    first_elem = mylist[0]\n",
    "else:\n",
    "    print(\"Oops! The list is empty.\")\n",
    "```\n",
    "Both approaches have their advantages and disadvantages.\n",
    "\n",
    "\n",
    "| Approach | Advantages | Disadvantages |\n",
    "| --- | --- | --- |\n",
    "| EAFP | More concise and readable code. Better handling of unexpected errors. | Can make code harder to understand and debug. |\n",
    "| LBYL | Easier to understand and avoid potential errors. | Can make code more verbose. May not catch all possible errors. |\n",
    "\n",
    "In general, EAFP is considered the preferred approach in Python, as it allows for more concise and readable code, and better handling of unexpected errors. However, the choice of approach ultimately depends on the specific situation and the preferences of the programmer."
   ]
  },
  {
   "attachments": {},
   "cell_type": "markdown",
   "metadata": {},
   "source": [
    "## Example"
   ]
  },
  {
   "cell_type": "code",
   "execution_count": 5,
   "metadata": {},
   "outputs": [
    {
     "name": "stdout",
     "output_type": "stream",
     "text": [
      "Contents of file: Dolor exercitation et aliqua dolore ex tempor consequat amet elit Lorem. Esse sint ipsum aute pariatur nulla in ex ea excepteur dolore quis. Nulla esse mollit consequat enim minim incididunt enim nisi cillum proident quis et voluptate. Pariatur culpa eu velit do incididunt duis eiusmod. Qui dolor elit anim exercitation exercitation dolor in cupidatat.\n",
      "\n"
     ]
    }
   ],
   "source": [
    "# EAFP Example: reading a file and handling errors\n",
    "try:\n",
    "    with open('example.txt', 'r') as f:\n",
    "        contents = f.read()\n",
    "except FileNotFoundError:\n",
    "    print('File not found. Please check the file path.')\n",
    "except OSError as e:\n",
    "    print(f'Error reading file: {e}')\n",
    "else:\n",
    "    print(f'Contents of file: {contents}')"
   ]
  },
  {
   "cell_type": "code",
   "execution_count": 1,
   "metadata": {},
   "outputs": [
    {
     "name": "stdout",
     "output_type": "stream",
     "text": [
      "hello is not a valid number. Please try again.\n"
     ]
    }
   ],
   "source": [
    "# LBYL Example: checking for valid input before performing an operation\n",
    "user_input = input('Please enter a number: ')\n",
    "if user_input.isnumeric():\n",
    "    num = int(user_input)\n",
    "    result = num / 2\n",
    "    print(f'Half of {num} is {result}')\n",
    "else:\n",
    "    print(f'{user_input} is not a valid number. Please try again.')"
   ]
  }
 ],
 "metadata": {
  "kernelspec": {
   "display_name": ".venv",
   "language": "python",
   "name": "python3"
  },
  "language_info": {
   "codemirror_mode": {
    "name": "ipython",
    "version": 3
   },
   "file_extension": ".py",
   "mimetype": "text/x-python",
   "name": "python",
   "nbconvert_exporter": "python",
   "pygments_lexer": "ipython3",
   "version": "3.11.2"
  },
  "orig_nbformat": 4
 },
 "nbformat": 4,
 "nbformat_minor": 2
}
