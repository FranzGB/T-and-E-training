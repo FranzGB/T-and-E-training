{
 "cells": [
  {
   "cell_type": "markdown",
   "id": "0bdee132-fb09-4045-9816-af129208e226",
   "metadata": {
    "tags": []
   },
   "source": [
    "# List Dictionary And Set Comprehensions"
   ]
  },
  {
   "cell_type": "markdown",
   "id": "edb7d643-a33d-4644-8cb6-8c74f76afaf7",
   "metadata": {},
   "source": [
    "List, dictionary, and set comprehensions are concise ways to create new lists, dictionaries, and sets in Python. They allow you to specify the elements of a new collection in a single line of code, using a compact syntax that combines loops and conditionals. They require iterables because they are designed to create new collections from existing collections by iterating over them. An iterable is any object that can be looped over, such as a list, tuple, set, or dictionary."
   ]
  },
  {
   "cell_type": "markdown",
   "id": "9243b2a5-8291-4c13-9e5f-a241c579c190",
   "metadata": {
    "tags": []
   },
   "source": [
    "## List Comprehension"
   ]
  },
  {
   "cell_type": "markdown",
   "id": "29872c2d-7a45-42f6-9797-3d94597475b4",
   "metadata": {},
   "source": [
    "List comprehensions take the form `[expression for item in iterable if condition]`. The expression is evaluated for each item in the iterable that satisfies the condition, and the result is a new list that contains the resulting values. For example, you can use a list comprehension to create a new list of squares of all even numbers in an existing list.\n",
    "\n",
    "#### Example\n",
    "\n",
    "Let's use list comprehensions to create a new list that contains only the even numbers from a list of numbers:\n"
   ]
  },
  {
   "cell_type": "code",
   "execution_count": 1,
   "id": "c1fe5a9e-724f-45da-9633-0853c167fe56",
   "metadata": {
    "tags": []
   },
   "outputs": [
    {
     "name": "stdout",
     "output_type": "stream",
     "text": [
      "[2, 4, 6]\n"
     ]
    }
   ],
   "source": [
    "numbers = [1, 2, 3, 4, 5, 6]\n",
    "even_numbers = [num for num in numbers if num % 2 == 0]\n",
    "print(even_numbers)"
   ]
  },
  {
   "cell_type": "markdown",
   "id": "4c25966a-6467-4dfb-8454-3727cf5bfe37",
   "metadata": {},
   "source": [
    "## Dictionary Comprehension\n",
    "\n",
    "Dictionary comprehensions follow a similar syntax, but instead of a single expression, they use a key-value pair expression separated by a colon. They take the form `{key_expression: value_expression for item in iterable if condition}`. The result is a new dictionary with the specified key-value pairs. For example, you can use a dictionary comprehension to create a new dictionary where the keys are the elements of a list and the values are their squares.\n",
    "\n",
    "#### Example\n",
    "Next, let's use dictionary comprehensions to create a new dictionary where the keys are the elements of the original list and the values are their squares:\n",
    "\n"
   ]
  },
  {
   "cell_type": "code",
   "execution_count": 2,
   "id": "37f8b60b-d44a-4bc8-b753-db40d23f443e",
   "metadata": {
    "tags": []
   },
   "outputs": [
    {
     "name": "stdout",
     "output_type": "stream",
     "text": [
      "{1: 1, 2: 4, 3: 9, 4: 16, 5: 25, 6: 36}\n"
     ]
    }
   ],
   "source": [
    "squares_dict = {num: num ** 2 for num in numbers}\n",
    "print(squares_dict)"
   ]
  },
  {
   "cell_type": "markdown",
   "id": "55e38074-fe62-4d69-860c-a618673800ec",
   "metadata": {},
   "source": [
    "## Set Comprehension\n",
    "\n",
    "Set comprehensions are similar to list comprehensions, but they create a new set instead of a list. They take the form `{expression for item in iterable if condition}`. For example, you can use a set comprehension to create a new set that contains only the unique even numbers from an existing list.\n",
    "\n",
    "#### Example\n",
    "\n",
    "Finally, let's use set comprehensions to create a new set that contains only the unique even numbers from the original list:\n",
    "\n"
   ]
  },
  {
   "cell_type": "code",
   "execution_count": 3,
   "id": "5724ef03-8808-4591-aad3-6941494085c2",
   "metadata": {
    "tags": []
   },
   "outputs": [
    {
     "name": "stdout",
     "output_type": "stream",
     "text": [
      "{2, 4, 6}\n"
     ]
    }
   ],
   "source": [
    "even_numbers_set = {num for num in numbers if num % 2 == 0}\n",
    "print(even_numbers_set)"
   ]
  }
 ],
 "metadata": {
  "kernelspec": {
   "display_name": "Python 3 (ipykernel)",
   "language": "python",
   "name": "python3"
  },
  "language_info": {
   "codemirror_mode": {
    "name": "ipython",
    "version": 3
   },
   "file_extension": ".py",
   "mimetype": "text/x-python",
   "name": "python",
   "nbconvert_exporter": "python",
   "pygments_lexer": "ipython3",
   "version": "3.11.2"
  }
 },
 "nbformat": 4,
 "nbformat_minor": 5
}
