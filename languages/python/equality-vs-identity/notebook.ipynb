{
 "cells": [
  {
   "attachments": {},
   "cell_type": "markdown",
   "metadata": {},
   "source": [
    "# Equality vs Identity"
   ]
  },
  {
   "attachments": {},
   "cell_type": "markdown",
   "metadata": {},
   "source": [
    "Python provides two operators to compare objects - the `==` operator for equality and the `is` operator for identity. While both of these operators are used to compare objects, they have different purposes and behave differently.\n",
    "\n",
    "## Equality\n",
    "The `==` operator compares the values of two objects to determine whether they are equal. This means that two objects with different memory addresses can still be considered equal if their values are the same.\n",
    "\n",
    "Let's take a look at some examples"
   ]
  },
  {
   "cell_type": "code",
   "execution_count": 1,
   "metadata": {},
   "outputs": [
    {
     "name": "stdout",
     "output_type": "stream",
     "text": [
      "True\n",
      "True\n",
      "True\n"
     ]
    }
   ],
   "source": [
    "# Numeric example\n",
    "x = 5\n",
    "y = 5.0\n",
    "print(x == y)  # True\n",
    "\n",
    "# String example\n",
    "a = \"hello\"\n",
    "b = \"hello\"\n",
    "print(a == b)  # True\n",
    "\n",
    "# List example\n",
    "c = [1, 2, 3]\n",
    "d = [1, 2, 3]\n",
    "print(c == d)  # True"
   ]
  },
  {
   "attachments": {},
   "cell_type": "markdown",
   "metadata": {},
   "source": [
    "## Identity\n",
    "The is operator, on the other hand, compares the memory addresses of two objects to determine whether they are the same object. This means that two objects with the same value can still be considered different if they are stored in different memory locations.\n",
    "\n",
    "Let's take a look at some examples:"
   ]
  },
  {
   "cell_type": "code",
   "execution_count": 2,
   "metadata": {},
   "outputs": [
    {
     "name": "stdout",
     "output_type": "stream",
     "text": [
      "False\n",
      "True\n",
      "False\n"
     ]
    }
   ],
   "source": [
    "# Numeric example\n",
    "\n",
    "print(x is y)  # False\n",
    "\n",
    "# String example\n",
    "a = \"hello\"\n",
    "b = \"hello\"\n",
    "print(a is b)  # True\n",
    "\n",
    "# List example\n",
    "\n",
    "print(c is d)  # False"
   ]
  },
  {
   "attachments": {},
   "cell_type": "markdown",
   "metadata": {},
   "source": [
    "In these examples it is clear that these are not the same object in memory. But there is something unusual `a is b` returns `True` this is because Python caches small strings for performance reasons. Since strings are immutable objects in Python, whenever a string is created, a new memory location is allocated to store its value. Creating a new memory location for every single instance of a small string like \"hello\" or \"world\" can lead to unnecessary memory usage and slower performance.\n",
    "\n",
    "To mitigate this, Python caches small strings with lengths between 1 and 0xFFFF (65535) bytes, and reuses their memory locations whenever possible. This means that when you create a new string with the same value as a cached string, Python can simply reuse the same memory location instead of allocating a new one. Additionally, string comparison is a very common operation in Python, so caching small strings also improves the performance of string comparison operations."
   ]
  },
  {
   "attachments": {},
   "cell_type": "markdown",
   "metadata": {},
   "source": [
    "## When to use Equality vs. Identity\n",
    "\n",
    "In general, you should use the == operator to compare values when you want to check if two objects have the same value. On the other hand, you should use the is operator to check if two variables refer to the same object in memory. In some cases, you may want to use both operators to make sure that two objects have the same value and are stored in the same memory location."
   ]
  }
 ],
 "metadata": {
  "kernelspec": {
   "display_name": ".venv",
   "language": "python",
   "name": "python3"
  },
  "language_info": {
   "codemirror_mode": {
    "name": "ipython",
    "version": 3
   },
   "file_extension": ".py",
   "mimetype": "text/x-python",
   "name": "python",
   "nbconvert_exporter": "python",
   "pygments_lexer": "ipython3",
   "version": "3.11.2"
  },
  "orig_nbformat": 4
 },
 "nbformat": 4,
 "nbformat_minor": 2
}
