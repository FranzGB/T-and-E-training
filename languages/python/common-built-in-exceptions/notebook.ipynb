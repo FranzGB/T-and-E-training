{
 "cells": [
  {
   "attachments": {},
   "cell_type": "markdown",
   "metadata": {},
   "source": [
    "# Exceptions: Common built-in exceptions: NameError, AttributeError, ImportError, KeyboardInterrupt and others"
   ]
  },
  {
   "attachments": {},
   "cell_type": "markdown",
   "metadata": {},
   "source": [
    "In Python, exceptions are events that are raised when an error occurs during the execution of a program. When an exception is raised, it is typically handled by an exception handler, which is a block of code that is designed to respond to a specific type of exception.\n",
    "\n",
    "Some common built-in exceptions in Python include `NameError`, `AttributeError`, `ImportError`, `ValueError`, `TypeError`, `IndexError` and `KeyboardInterrupt`.\n",
    "\n",
    "Also we can create our own custom exceptions in Python. To do so, we can define a new class that inherits from the built-in Exception class. Here’s an example:"
   ]
  },
  {
   "cell_type": "code",
   "execution_count": 1,
   "metadata": {},
   "outputs": [
    {
     "name": "stdout",
     "output_type": "stream",
     "text": [
      "An error occurred\n"
     ]
    }
   ],
   "source": [
    "\n",
    "class MyCustomError(Exception):\n",
    "    pass\n",
    "## In this example, we define a new exception class called MyCustomError that inherits from the Exception class. You can then raise this exception in your code using the raise statement, like this:\n",
    "def my_function():\n",
    "    raise MyCustomError(\"An error occurred\")\n",
    "try:\n",
    "    my_function()\n",
    "except MyCustomError as e:\n",
    "    print(e)\n",
    "\n",
    "# We can also customize your exception class by adding additional attributes or methods to it"
   ]
  },
  {
   "attachments": {},
   "cell_type": "markdown",
   "metadata": {},
   "source": [
    "1. `NameError`: Is raised when a local or global name is not found\n",
    "1. `AttributeError`: Is raised when an attribute reference or assignment fails\n",
    "1. `ImportError`: Is raised when an import statement fails to find the module definition or when a `from … import` fails to find a name that is to be imported\n",
    "1. `ValueError`: Is raised when a built-in operation or function receives an argument that has the right type but an inappropriate value\n",
    "1. `TypeError`: Is raised when an operation or function is applied to an object of inappropriate type\n",
    "1. `IndexError`: Is raised when a sequence subscript is out of range\n",
    "1. `KeyboardInterrupt`: Is raised when the user hits the interrupt key (normally Control-C or Delete)"
   ]
  },
  {
   "attachments": {},
   "cell_type": "markdown",
   "metadata": {},
   "source": [
    "## Importance of exceptions in Python\n",
    "Exception handling is important in Python because it allows you to gracefully handle errors that may occur during the execution of the program. When an exception is raised, it interrupts the normal flow of the program and can cause it to terminate. By using exception handling techniques such as try and except blocks, you can catch and handle exceptions, allowing your program to continue running even if an error occurs.\n",
    "\n",
    "Exception handling also makes it easier to debug our code. When an exception is raised, Python provides a stack trace that shows exactly where the exception occurred in the code. This can make it easier to diagnose and fix problems in our code"
   ]
  }
 ],
 "metadata": {
  "kernelspec": {
   "display_name": ".venv",
   "language": "python",
   "name": "python3"
  },
  "language_info": {
   "codemirror_mode": {
    "name": "ipython",
    "version": 3
   },
   "file_extension": ".py",
   "mimetype": "text/x-python",
   "name": "python",
   "nbconvert_exporter": "python",
   "pygments_lexer": "ipython3",
   "version": "3.11.2"
  },
  "orig_nbformat": 4
 },
 "nbformat": 4,
 "nbformat_minor": 2
}
