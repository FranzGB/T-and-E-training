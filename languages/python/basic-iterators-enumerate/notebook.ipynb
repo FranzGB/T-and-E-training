{
 "cells": [
  {
   "cell_type": "markdown",
   "metadata": {},
   "source": [
    "# Python Basic Iterators: Enumerate\n",
    "\n",
    "## Summary\n",
    "\n",
    "The `enumerate()` function in Python is a built-in iterator that allows you to iterate over an iterable (such as a list, tuple, or string) while keeping track of the index or position of each element. It returns a tuple containing both the index and the element from the iterable.\n",
    "\n",
    "## Examples\n",
    "\n",
    "### Basic Usage\n",
    "\n",
    "Let's start with some basic examples of how to use `enumerate()`:"
   ]
  },
  {
   "cell_type": "code",
   "execution_count": 1,
   "metadata": {},
   "outputs": [
    {
     "name": "stdout",
     "output_type": "stream",
     "text": [
      "0 apple\n",
      "1 banana\n",
      "2 cherry\n"
     ]
    }
   ],
   "source": [
    "# Example 1: Enumerate over a list\n",
    "fruits = ['apple', 'banana', 'cherry']\n",
    "for index, fruit in enumerate(fruits):\n",
    "    print(index, fruit)"
   ]
  },
  {
   "cell_type": "markdown",
   "metadata": {},
   "source": [
    "\n",
    "In this example, `enumerate()` assigns an index to each element in the list `fruits`.\n",
    "\n",
    "### Specifying Start Index\n",
    "\n",
    "You can specify a start index for enumeration using the `start` parameter:"
   ]
  },
  {
   "cell_type": "code",
   "execution_count": 2,
   "metadata": {},
   "outputs": [
    {
     "name": "stdout",
     "output_type": "stream",
     "text": [
      "1 apple\n",
      "2 banana\n",
      "3 cherry\n"
     ]
    }
   ],
   "source": [
    "fruits = ['apple', 'banana', 'cherry']\n",
    "for index, fruit in enumerate(fruits, start=1):\n",
    "    print(index, fruit)"
   ]
  },
  {
   "cell_type": "markdown",
   "metadata": {},
   "source": [
    "### Using `enumerate()` with Strings\n",
    "\n",
    "`enumerate()` can also be used with strings to iterate over characters:"
   ]
  },
  {
   "cell_type": "code",
   "execution_count": 3,
   "metadata": {},
   "outputs": [
    {
     "name": "stdout",
     "output_type": "stream",
     "text": [
      "0 P\n",
      "1 y\n",
      "2 t\n",
      "3 h\n",
      "4 o\n",
      "5 n\n"
     ]
    }
   ],
   "source": [
    "word = 'Python'\n",
    "for index, char in enumerate(word):\n",
    "    print(index, char)"
   ]
  },
  {
   "cell_type": "markdown",
   "metadata": {},
   "source": [
    "## Interesting Cases\n",
    "\n",
    "### Enumerate with Multiple Iterables\n",
    "\n",
    "You can use `enumerate()` with multiple iterables of the same length:"
   ]
  },
  {
   "cell_type": "code",
   "execution_count": 4,
   "metadata": {},
   "outputs": [
    {
     "name": "stdout",
     "output_type": "stream",
     "text": [
      "0: apple - $1.0\n",
      "1: banana - $0.5\n",
      "2: cherry - $2.0\n"
     ]
    }
   ],
   "source": [
    "fruits = ['apple', 'banana', 'cherry']\n",
    "prices = [1.0, 0.5, 2.0]\n",
    "\n",
    "for index, (fruit, price) in enumerate(zip(fruits, prices)):\n",
    "    print(f\"{index}: {fruit} - ${price}\")"
   ]
  },
  {
   "cell_type": "markdown",
   "metadata": {},
   "source": [
    "### Advanced Usage\n",
    "\n",
    "`enumerate()` can be used in more complex scenarios, such as combining it with list comprehensions or using it to create dictionaries:"
   ]
  },
  {
   "cell_type": "code",
   "execution_count": 5,
   "metadata": {},
   "outputs": [
    {
     "name": "stdout",
     "output_type": "stream",
     "text": [
      "{0: 'apple', 1: 'banana', 2: 'cherry'}\n"
     ]
    }
   ],
   "source": [
    "fruits = ['apple', 'banana', 'cherry']\n",
    "fruit_dict = {index: fruit for index, fruit in enumerate(fruits)}\n",
    "print(fruit_dict)"
   ]
  },
  {
   "cell_type": "markdown",
   "metadata": {},
   "source": [
    "This looks pretty similar to using a `for` loop to iterate over an iterable with the keyword `in` to iterate over an iterable however main difference between using `enumerate()` and a regular for loop iterable lies in the information they provide during iteration:\n",
    "\n",
    "`enumerate()` Provides Indexing: When you use enumerate(), it not only iterates over the elements of an iterable but also provides the index (position) of each element. It returns a tuple containing both the index and the element at that index. This indexing is especially useful when you need to know the position of an element within the iterable.\n",
    "\n",
    "```python\n",
    "for index, element in enumerate(iterable):\n",
    "    # You have access to both index and element\n",
    "```\n",
    "\n",
    "for Loop Provides Elements Only: A regular for loop used for iteration over an iterable gives you access to the elements themselves but does not provide information about their position within the iterable. It is useful when you only need to process the elements and do not require knowledge of their index.\n",
    "\n",
    "```python\n",
    "for element in iterable:\n",
    "    # You have access to the element, but not its index\n",
    "```"
   ]
  },
  {
   "cell_type": "markdown",
   "metadata": {},
   "source": [
    "\n",
    "### Enumerate with Step\n",
    "You can use `enumerate()` with a custom step value to skip certain elements. In this example, we're iterating over every second element in the list fruits."
   ]
  },
  {
   "cell_type": "code",
   "execution_count": 6,
   "metadata": {},
   "outputs": [
    {
     "name": "stdout",
     "output_type": "stream",
     "text": [
      "0 apple\n",
      "1 cherry\n",
      "2 elderberry\n"
     ]
    }
   ],
   "source": [
    "fruits = ['apple', 'banana', 'cherry', 'date', 'elderberry']\n",
    "for index, fruit in enumerate(fruits[::2]):\n",
    "    print(index, fruit)"
   ]
  },
  {
   "cell_type": "markdown",
   "metadata": {},
   "source": [
    "### Enumerate with Conditional\n",
    "You can use `enumerate()` with a conditional to filter out certain elements. In this example, we are using `enumerate()` to apply different grading criteria to each student's score."
   ]
  },
  {
   "cell_type": "code",
   "execution_count": 7,
   "metadata": {},
   "outputs": [
    {
     "name": "stdout",
     "output_type": "stream",
     "text": [
      "Student 0 scored a 'B' (88 marks)\n",
      "Student 1 scored an 'A' (92 marks)\n",
      "Student 2 scored below 'B' (75 marks)\n",
      "Student 3 scored an 'A' (95 marks)\n",
      "Student 4 scored a 'B' (82 marks)\n",
      "Student 5 scored below 'B' (78 marks)\n"
     ]
    }
   ],
   "source": [
    "grades = [88, 92, 75, 95, 82, 78]\n",
    "for index, score in enumerate(grades):\n",
    "    if score >= 90:\n",
    "        print(f\"Student {index} scored an 'A' ({score} marks)\")\n",
    "    elif score >= 80:\n",
    "        print(f\"Student {index} scored a 'B' ({score} marks)\")\n",
    "    else:\n",
    "        print(f\"Student {index} scored below 'B' ({score} marks)\")"
   ]
  },
  {
   "cell_type": "markdown",
   "metadata": {},
   "source": [
    "### Enumerate with Reversed Iteration\n",
    "You can reverse the order of iteration using enumerate() by first reversing the iterable:"
   ]
  },
  {
   "cell_type": "code",
   "execution_count": 8,
   "metadata": {},
   "outputs": [
    {
     "name": "stdout",
     "output_type": "stream",
     "text": [
      "0 elderberry\n",
      "1 date\n",
      "2 cherry\n",
      "3 banana\n",
      "4 apple\n"
     ]
    }
   ],
   "source": [
    "fruits = ['apple', 'banana', 'cherry', 'date', 'elderberry']\n",
    "for index, fruit in enumerate(reversed(fruits)):\n",
    "    print(index, fruit)"
   ]
  },
  {
   "cell_type": "markdown",
   "metadata": {},
   "source": [
    "### Enumerate and Update Elements\n",
    "You can use enumerate() to update elements in a list based on their index:\n",
    "In this example, we're doubling the values of elements in the numbers list using enumerate()."
   ]
  },
  {
   "cell_type": "code",
   "execution_count": 9,
   "metadata": {},
   "outputs": [
    {
     "name": "stdout",
     "output_type": "stream",
     "text": [
      "[2, 4, 6, 8, 10]\n"
     ]
    }
   ],
   "source": [
    "numbers = [1, 2, 3, 4, 5]\n",
    "for index, value in enumerate(numbers):\n",
    "    numbers[index] = value * 2\n",
    "print(numbers)"
   ]
  }
 ],
 "metadata": {
  "kernelspec": {
   "display_name": ".venv",
   "language": "python",
   "name": "python3"
  },
  "language_info": {
   "codemirror_mode": {
    "name": "ipython",
    "version": 3
   },
   "file_extension": ".py",
   "mimetype": "text/x-python",
   "name": "python",
   "nbconvert_exporter": "python",
   "pygments_lexer": "ipython3",
   "version": "3.11.2"
  },
  "orig_nbformat": 4
 },
 "nbformat": 4,
 "nbformat_minor": 2
}
